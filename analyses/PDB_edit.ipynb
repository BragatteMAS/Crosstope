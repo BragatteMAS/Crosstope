{
  "nbformat": 4,
  "nbformat_minor": 0,
  "metadata": {
    "colab": {
      "name": "PDB_edit.ipynb",
      "provenance": [],
      "authorship_tag": "ABX9TyPMFcb4o/abEfbOw69imnTd",
      "include_colab_link": true
    },
    "kernelspec": {
      "name": "python3",
      "display_name": "Python 3"
    }
  },
  "cells": [
    {
      "cell_type": "markdown",
      "metadata": {
        "id": "view-in-github",
        "colab_type": "text"
      },
      "source": [
        "<a href=\"https://colab.research.google.com/github/BragatteMAS/Crosstope/blob/master/analyses/PDB_edit.ipynb\" target=\"_parent\"><img src=\"https://colab.research.google.com/assets/colab-badge.svg\" alt=\"Open In Colab\"/></a>"
      ]
    },
    {
      "cell_type": "code",
      "metadata": {
        "id": "k49EYkiZciv2"
      },
      "source": [
        "!pip install biopandas"
      ],
      "execution_count": null,
      "outputs": []
    },
    {
      "cell_type": "code",
      "metadata": {
        "id": "bhRzBEcbcTSP"
      },
      "source": [
        "from biopandas.pdb import PandasPdb\n",
        "\n",
        "# Initialize a new PandasPdb object\n",
        "# and fetch the PDB file from rcsb.org\n",
        "ppdb = PandasPdb().fetch_pdb('6zlr')"
      ],
      "execution_count": null,
      "outputs": []
    },
    {
      "cell_type": "code",
      "metadata": {
        "colab": {
          "base_uri": "https://localhost:8080/"
        },
        "id": "aVTLY8w6c8L7",
        "outputId": "d68a07eb-ef5f-466a-f579-a56ac3a9c636"
      },
      "source": [
        "#Load pdb locally\n",
        "ppdb.read_pdb('./6zlr.pdb')"
      ],
      "execution_count": 19,
      "outputs": [
        {
          "output_type": "execute_result",
          "data": {
            "text/plain": [
              "<biopandas.pdb.pandas_pdb.PandasPdb at 0x7f2501a9a9e8>"
            ]
          },
          "metadata": {
            "tags": []
          },
          "execution_count": 19
        }
      ]
    },
    {
      "cell_type": "code",
      "metadata": {
        "colab": {
          "base_uri": "https://localhost:8080/"
        },
        "id": "Tz5PE5P9dEZ7",
        "outputId": "bbceffbe-92d4-43c7-e228-1d68a016514e"
      },
      "source": [
        "print('PDB Code: %s' % ppdb.code)\n",
        "print('PDB Header Line: %s' % ppdb.header)\n",
        "print('\\nRaw PDB file contents:\\n\\n%s\\n...' % ppdb.pdb_text[:1000])"
      ],
      "execution_count": 20,
      "outputs": [
        {
          "output_type": "stream",
          "text": [
            "PDB Code: xxxx\n",
            "PDB Header Line:     VIRAL PROTEIN                           2020-07-01  XXXX\n",
            "\n",
            "Raw PDB file contents:\n",
            "\n",
            "HEADER    VIRAL PROTEIN                           2020-07-01  XXXX              \n",
            "AUTHOR    G.F.DE NICOLA, C.E.NICHOLS                                            \n",
            "JRNL        AUTH   C.Nichols, J.Ng, A.Keshu, F.Fraternali, G.F.De Nicola        \n",
            "JRNL        TITL   A New Crystal Form of the SARS-CoV-2 Receptor Binding        \n",
            "JRNL        TITL 2 Domain: CR3022 Complex-An Ideal Target for In-Crystal        \n",
            "JRNL        TITL 3 Fragment Screening of the ACE2 Binding Site Surface.         \n",
            "JRNL        REF    Front Pharmacol               V.  11 15211 2020              \n",
            "JRNL        REFN                CH      1663-9812                               \n",
            "JRNL        PMID   33381049                                                     \n",
            "JRNL        DOI    10.3389/fphar.2020.615211                                    \n",
            "CRYST1  207.130  207.130  199.866  90.00  90.00  90.00 P 41 21 2    24          \n",
            "SCALE1      0.004828  0.000000  0.000000        0.00000                         \n",
            "SCALE2      0.000000  0.0048\n",
            "...\n"
          ],
          "name": "stdout"
        }
      ]
    },
    {
      "cell_type": "code",
      "metadata": {
        "colab": {
          "base_uri": "https://localhost:8080/"
        },
        "id": "F0-GjWkYdEW8",
        "outputId": "9f5465ce-db99-4391-cd25-938d2f84d6f2"
      },
      "source": [
        "ppdb.df.keys() #in a dict exist key & values"
      ],
      "execution_count": 36,
      "outputs": [
        {
          "output_type": "execute_result",
          "data": {
            "text/plain": [
              "dict_keys(['ATOM', 'HETATM', 'ANISOU', 'OTHERS'])"
            ]
          },
          "metadata": {
            "tags": []
          },
          "execution_count": 36
        }
      ]
    },
    {
      "cell_type": "code",
      "metadata": {
        "colab": {
          "base_uri": "https://localhost:8080/"
        },
        "id": "re3WEDDddET-",
        "outputId": "11b57fa2-552d-4e83-a50b-27f984ac9156"
      },
      "source": [
        "ppdb.df['ATOM'].dtypes #this are the values from key ATOM"
      ],
      "execution_count": 37,
      "outputs": [
        {
          "output_type": "execute_result",
          "data": {
            "text/plain": [
              "record_name        object\n",
              "atom_number         int64\n",
              "blank_1            object\n",
              "atom_name          object\n",
              "alt_loc            object\n",
              "residue_name       object\n",
              "blank_2            object\n",
              "chain_id           object\n",
              "residue_number      int64\n",
              "insertion          object\n",
              "blank_3            object\n",
              "x_coord           float64\n",
              "y_coord           float64\n",
              "z_coord           float64\n",
              "occupancy         float64\n",
              "b_factor          float64\n",
              "blank_4            object\n",
              "segment_id         object\n",
              "element_symbol     object\n",
              "charge            float64\n",
              "line_idx            int64\n",
              "dtype: object"
            ]
          },
          "metadata": {
            "tags": []
          },
          "execution_count": 37
        }
      ]
    },
    {
      "cell_type": "code",
      "metadata": {
        "colab": {
          "base_uri": "https://localhost:8080/"
        },
        "id": "Z5J4lncHdERO",
        "outputId": "d04d4f87-caee-4af1-b908-d1ce35a506b3"
      },
      "source": [
        "ppdb.df['ATOM'].columns #image an excel index is the name of columns (headers at R language)"
      ],
      "execution_count": 38,
      "outputs": [
        {
          "output_type": "execute_result",
          "data": {
            "text/plain": [
              "Index(['record_name', 'atom_number', 'blank_1', 'atom_name', 'alt_loc',\n",
              "       'residue_name', 'blank_2', 'chain_id', 'residue_number', 'insertion',\n",
              "       'blank_3', 'x_coord', 'y_coord', 'z_coord', 'occupancy', 'b_factor',\n",
              "       'blank_4', 'segment_id', 'element_symbol', 'charge', 'line_idx'],\n",
              "      dtype='object')"
            ]
          },
          "metadata": {
            "tags": []
          },
          "execution_count": 38
        }
      ]
    },
    {
      "cell_type": "code",
      "metadata": {
        "colab": {
          "base_uri": "https://localhost:8080/",
          "height": 218
        },
        "id": "_4Wi1Rf8dEOk",
        "outputId": "7dbb8d0a-fa21-4dde-aebe-6ab666683d72"
      },
      "source": [
        "ppdb.df['ATOM'][ppdb.df['ATOM']['residue_name'] == 'ALA'].head() #filter only Alanine aa"
      ],
      "execution_count": 39,
      "outputs": [
        {
          "output_type": "execute_result",
          "data": {
            "text/html": [
              "<div>\n",
              "<style scoped>\n",
              "    .dataframe tbody tr th:only-of-type {\n",
              "        vertical-align: middle;\n",
              "    }\n",
              "\n",
              "    .dataframe tbody tr th {\n",
              "        vertical-align: top;\n",
              "    }\n",
              "\n",
              "    .dataframe thead th {\n",
              "        text-align: right;\n",
              "    }\n",
              "</style>\n",
              "<table border=\"1\" class=\"dataframe\">\n",
              "  <thead>\n",
              "    <tr style=\"text-align: right;\">\n",
              "      <th></th>\n",
              "      <th>record_name</th>\n",
              "      <th>atom_number</th>\n",
              "      <th>blank_1</th>\n",
              "      <th>atom_name</th>\n",
              "      <th>alt_loc</th>\n",
              "      <th>residue_name</th>\n",
              "      <th>blank_2</th>\n",
              "      <th>chain_id</th>\n",
              "      <th>residue_number</th>\n",
              "      <th>insertion</th>\n",
              "      <th>blank_3</th>\n",
              "      <th>x_coord</th>\n",
              "      <th>y_coord</th>\n",
              "      <th>z_coord</th>\n",
              "      <th>occupancy</th>\n",
              "      <th>b_factor</th>\n",
              "      <th>blank_4</th>\n",
              "      <th>segment_id</th>\n",
              "      <th>element_symbol</th>\n",
              "      <th>charge</th>\n",
              "      <th>line_idx</th>\n",
              "    </tr>\n",
              "  </thead>\n",
              "  <tbody>\n",
              "    <tr>\n",
              "      <th>29</th>\n",
              "      <td>ATOM</td>\n",
              "      <td>30</td>\n",
              "      <td></td>\n",
              "      <td>N</td>\n",
              "      <td></td>\n",
              "      <td>PRO</td>\n",
              "      <td></td>\n",
              "      <td>A</td>\n",
              "      <td>337</td>\n",
              "      <td></td>\n",
              "      <td></td>\n",
              "      <td>-3.747</td>\n",
              "      <td>41.595</td>\n",
              "      <td>30.326</td>\n",
              "      <td>1.0</td>\n",
              "      <td>97.30</td>\n",
              "      <td></td>\n",
              "      <td></td>\n",
              "      <td>N</td>\n",
              "      <td>NaN</td>\n",
              "      <td>43</td>\n",
              "    </tr>\n",
              "    <tr>\n",
              "      <th>30</th>\n",
              "      <td>ATOM</td>\n",
              "      <td>31</td>\n",
              "      <td></td>\n",
              "      <td>CA</td>\n",
              "      <td></td>\n",
              "      <td>PRO</td>\n",
              "      <td></td>\n",
              "      <td>A</td>\n",
              "      <td>337</td>\n",
              "      <td></td>\n",
              "      <td></td>\n",
              "      <td>-3.383</td>\n",
              "      <td>41.058</td>\n",
              "      <td>29.018</td>\n",
              "      <td>1.0</td>\n",
              "      <td>104.14</td>\n",
              "      <td></td>\n",
              "      <td></td>\n",
              "      <td>C</td>\n",
              "      <td>NaN</td>\n",
              "      <td>44</td>\n",
              "    </tr>\n",
              "    <tr>\n",
              "      <th>31</th>\n",
              "      <td>ATOM</td>\n",
              "      <td>32</td>\n",
              "      <td></td>\n",
              "      <td>C</td>\n",
              "      <td></td>\n",
              "      <td>PRO</td>\n",
              "      <td></td>\n",
              "      <td>A</td>\n",
              "      <td>337</td>\n",
              "      <td></td>\n",
              "      <td></td>\n",
              "      <td>-2.480</td>\n",
              "      <td>42.022</td>\n",
              "      <td>28.238</td>\n",
              "      <td>1.0</td>\n",
              "      <td>107.60</td>\n",
              "      <td></td>\n",
              "      <td></td>\n",
              "      <td>C</td>\n",
              "      <td>NaN</td>\n",
              "      <td>45</td>\n",
              "    </tr>\n",
              "    <tr>\n",
              "      <th>32</th>\n",
              "      <td>ATOM</td>\n",
              "      <td>33</td>\n",
              "      <td></td>\n",
              "      <td>O</td>\n",
              "      <td></td>\n",
              "      <td>PRO</td>\n",
              "      <td></td>\n",
              "      <td>A</td>\n",
              "      <td>337</td>\n",
              "      <td></td>\n",
              "      <td></td>\n",
              "      <td>-2.804</td>\n",
              "      <td>42.336</td>\n",
              "      <td>27.109</td>\n",
              "      <td>1.0</td>\n",
              "      <td>114.65</td>\n",
              "      <td></td>\n",
              "      <td></td>\n",
              "      <td>O</td>\n",
              "      <td>NaN</td>\n",
              "      <td>46</td>\n",
              "    </tr>\n",
              "    <tr>\n",
              "      <th>33</th>\n",
              "      <td>ATOM</td>\n",
              "      <td>34</td>\n",
              "      <td></td>\n",
              "      <td>CB</td>\n",
              "      <td></td>\n",
              "      <td>PRO</td>\n",
              "      <td></td>\n",
              "      <td>A</td>\n",
              "      <td>337</td>\n",
              "      <td></td>\n",
              "      <td></td>\n",
              "      <td>-4.760</td>\n",
              "      <td>40.895</td>\n",
              "      <td>28.360</td>\n",
              "      <td>1.0</td>\n",
              "      <td>102.03</td>\n",
              "      <td></td>\n",
              "      <td></td>\n",
              "      <td>C</td>\n",
              "      <td>NaN</td>\n",
              "      <td>47</td>\n",
              "    </tr>\n",
              "  </tbody>\n",
              "</table>\n",
              "</div>"
            ],
            "text/plain": [
              "   record_name  atom_number blank_1  ... element_symbol charge line_idx\n",
              "29        ATOM           30          ...              N    NaN       43\n",
              "30        ATOM           31          ...              C    NaN       44\n",
              "31        ATOM           32          ...              C    NaN       45\n",
              "32        ATOM           33          ...              O    NaN       46\n",
              "33        ATOM           34          ...              C    NaN       47\n",
              "\n",
              "[5 rows x 21 columns]"
            ]
          },
          "metadata": {
            "tags": []
          },
          "execution_count": 39
        }
      ]
    },
    {
      "cell_type": "code",
      "metadata": {
        "colab": {
          "base_uri": "https://localhost:8080/",
          "height": 68
        },
        "id": "kNAAG_iMdEML",
        "outputId": "400737b7-0521-45d2-973d-50ccb1306e67"
      },
      "source": [
        "#Localize the chain with AAA:\n",
        "ppdb.df['ATOM'][ppdb.df['ATOM']['chain_id'] == 'AAA'].head()"
      ],
      "execution_count": 41,
      "outputs": [
        {
          "output_type": "execute_result",
          "data": {
            "text/html": [
              "<div>\n",
              "<style scoped>\n",
              "    .dataframe tbody tr th:only-of-type {\n",
              "        vertical-align: middle;\n",
              "    }\n",
              "\n",
              "    .dataframe tbody tr th {\n",
              "        vertical-align: top;\n",
              "    }\n",
              "\n",
              "    .dataframe thead th {\n",
              "        text-align: right;\n",
              "    }\n",
              "</style>\n",
              "<table border=\"1\" class=\"dataframe\">\n",
              "  <thead>\n",
              "    <tr style=\"text-align: right;\">\n",
              "      <th></th>\n",
              "      <th>record_name</th>\n",
              "      <th>atom_number</th>\n",
              "      <th>blank_1</th>\n",
              "      <th>atom_name</th>\n",
              "      <th>alt_loc</th>\n",
              "      <th>residue_name</th>\n",
              "      <th>blank_2</th>\n",
              "      <th>chain_id</th>\n",
              "      <th>residue_number</th>\n",
              "      <th>insertion</th>\n",
              "      <th>blank_3</th>\n",
              "      <th>x_coord</th>\n",
              "      <th>y_coord</th>\n",
              "      <th>z_coord</th>\n",
              "      <th>occupancy</th>\n",
              "      <th>b_factor</th>\n",
              "      <th>blank_4</th>\n",
              "      <th>segment_id</th>\n",
              "      <th>element_symbol</th>\n",
              "      <th>charge</th>\n",
              "      <th>line_idx</th>\n",
              "    </tr>\n",
              "  </thead>\n",
              "  <tbody>\n",
              "  </tbody>\n",
              "</table>\n",
              "</div>"
            ],
            "text/plain": [
              "Empty DataFrame\n",
              "Columns: [record_name, atom_number, blank_1, atom_name, alt_loc, residue_name, blank_2, chain_id, residue_number, insertion, blank_3, x_coord, y_coord, z_coord, occupancy, b_factor, blank_4, segment_id, element_symbol, charge, line_idx]\n",
              "Index: []"
            ]
          },
          "metadata": {
            "tags": []
          },
          "execution_count": 41
        }
      ]
    },
    {
      "cell_type": "code",
      "metadata": {
        "colab": {
          "base_uri": "https://localhost:8080/",
          "height": 218
        },
        "id": "jap1oppBdEJi",
        "outputId": "7879baf7-c18b-42ee-8634-baef38dd78c9"
      },
      "source": [
        "#No match. Trying different search...\n",
        "ppdb.df['ATOM'][ppdb.df['ATOM']['chain_id'] == 'A'].head()"
      ],
      "execution_count": 43,
      "outputs": [
        {
          "output_type": "execute_result",
          "data": {
            "text/html": [
              "<div>\n",
              "<style scoped>\n",
              "    .dataframe tbody tr th:only-of-type {\n",
              "        vertical-align: middle;\n",
              "    }\n",
              "\n",
              "    .dataframe tbody tr th {\n",
              "        vertical-align: top;\n",
              "    }\n",
              "\n",
              "    .dataframe thead th {\n",
              "        text-align: right;\n",
              "    }\n",
              "</style>\n",
              "<table border=\"1\" class=\"dataframe\">\n",
              "  <thead>\n",
              "    <tr style=\"text-align: right;\">\n",
              "      <th></th>\n",
              "      <th>record_name</th>\n",
              "      <th>atom_number</th>\n",
              "      <th>blank_1</th>\n",
              "      <th>atom_name</th>\n",
              "      <th>alt_loc</th>\n",
              "      <th>residue_name</th>\n",
              "      <th>blank_2</th>\n",
              "      <th>chain_id</th>\n",
              "      <th>residue_number</th>\n",
              "      <th>insertion</th>\n",
              "      <th>blank_3</th>\n",
              "      <th>x_coord</th>\n",
              "      <th>y_coord</th>\n",
              "      <th>z_coord</th>\n",
              "      <th>occupancy</th>\n",
              "      <th>b_factor</th>\n",
              "      <th>blank_4</th>\n",
              "      <th>segment_id</th>\n",
              "      <th>element_symbol</th>\n",
              "      <th>charge</th>\n",
              "      <th>line_idx</th>\n",
              "    </tr>\n",
              "  </thead>\n",
              "  <tbody>\n",
              "    <tr>\n",
              "      <th>0</th>\n",
              "      <td>ATOM</td>\n",
              "      <td>1</td>\n",
              "      <td></td>\n",
              "      <td>N</td>\n",
              "      <td></td>\n",
              "      <td>THR</td>\n",
              "      <td></td>\n",
              "      <td>A</td>\n",
              "      <td>333</td>\n",
              "      <td></td>\n",
              "      <td></td>\n",
              "      <td>-5.843</td>\n",
              "      <td>32.760</td>\n",
              "      <td>36.030</td>\n",
              "      <td>1.0</td>\n",
              "      <td>156.01</td>\n",
              "      <td></td>\n",
              "      <td></td>\n",
              "      <td>N</td>\n",
              "      <td>NaN</td>\n",
              "      <td>14</td>\n",
              "    </tr>\n",
              "    <tr>\n",
              "      <th>1</th>\n",
              "      <td>ATOM</td>\n",
              "      <td>2</td>\n",
              "      <td></td>\n",
              "      <td>CA</td>\n",
              "      <td></td>\n",
              "      <td>THR</td>\n",
              "      <td></td>\n",
              "      <td>A</td>\n",
              "      <td>333</td>\n",
              "      <td></td>\n",
              "      <td></td>\n",
              "      <td>-6.637</td>\n",
              "      <td>33.230</td>\n",
              "      <td>34.845</td>\n",
              "      <td>1.0</td>\n",
              "      <td>157.40</td>\n",
              "      <td></td>\n",
              "      <td></td>\n",
              "      <td>C</td>\n",
              "      <td>NaN</td>\n",
              "      <td>15</td>\n",
              "    </tr>\n",
              "    <tr>\n",
              "      <th>2</th>\n",
              "      <td>ATOM</td>\n",
              "      <td>3</td>\n",
              "      <td></td>\n",
              "      <td>C</td>\n",
              "      <td></td>\n",
              "      <td>THR</td>\n",
              "      <td></td>\n",
              "      <td>A</td>\n",
              "      <td>333</td>\n",
              "      <td></td>\n",
              "      <td></td>\n",
              "      <td>-6.344</td>\n",
              "      <td>34.712</td>\n",
              "      <td>34.566</td>\n",
              "      <td>1.0</td>\n",
              "      <td>161.98</td>\n",
              "      <td></td>\n",
              "      <td></td>\n",
              "      <td>C</td>\n",
              "      <td>NaN</td>\n",
              "      <td>16</td>\n",
              "    </tr>\n",
              "    <tr>\n",
              "      <th>3</th>\n",
              "      <td>ATOM</td>\n",
              "      <td>4</td>\n",
              "      <td></td>\n",
              "      <td>O</td>\n",
              "      <td></td>\n",
              "      <td>THR</td>\n",
              "      <td></td>\n",
              "      <td>A</td>\n",
              "      <td>333</td>\n",
              "      <td></td>\n",
              "      <td></td>\n",
              "      <td>-6.078</td>\n",
              "      <td>35.029</td>\n",
              "      <td>33.389</td>\n",
              "      <td>1.0</td>\n",
              "      <td>164.99</td>\n",
              "      <td></td>\n",
              "      <td></td>\n",
              "      <td>O</td>\n",
              "      <td>NaN</td>\n",
              "      <td>17</td>\n",
              "    </tr>\n",
              "    <tr>\n",
              "      <th>4</th>\n",
              "      <td>ATOM</td>\n",
              "      <td>5</td>\n",
              "      <td></td>\n",
              "      <td>CB</td>\n",
              "      <td></td>\n",
              "      <td>THR</td>\n",
              "      <td></td>\n",
              "      <td>A</td>\n",
              "      <td>333</td>\n",
              "      <td></td>\n",
              "      <td></td>\n",
              "      <td>-8.147</td>\n",
              "      <td>33.007</td>\n",
              "      <td>35.033</td>\n",
              "      <td>1.0</td>\n",
              "      <td>149.13</td>\n",
              "      <td></td>\n",
              "      <td></td>\n",
              "      <td>C</td>\n",
              "      <td>NaN</td>\n",
              "      <td>18</td>\n",
              "    </tr>\n",
              "  </tbody>\n",
              "</table>\n",
              "</div>"
            ],
            "text/plain": [
              "  record_name  atom_number blank_1  ... element_symbol charge line_idx\n",
              "0        ATOM            1          ...              N    NaN       14\n",
              "1        ATOM            2          ...              C    NaN       15\n",
              "2        ATOM            3          ...              C    NaN       16\n",
              "3        ATOM            4          ...              O    NaN       17\n",
              "4        ATOM            5          ...              C    NaN       18\n",
              "\n",
              "[5 rows x 21 columns]"
            ]
          },
          "metadata": {
            "tags": []
          },
          "execution_count": 43
        }
      ]
    },
    {
      "cell_type": "markdown",
      "metadata": {
        "id": "d4PlwjDbk0GR"
      },
      "source": [
        "# Plot"
      ]
    },
    {
      "cell_type": "code",
      "metadata": {
        "id": "-b3oTT40dEEt"
      },
      "source": [
        "%matplotlib inline\n",
        "import matplotlib.pyplot as plt\n",
        "from matplotlib import style\n",
        "style.use('ggplot')"
      ],
      "execution_count": 45,
      "outputs": []
    },
    {
      "cell_type": "code",
      "metadata": {
        "colab": {
          "base_uri": "https://localhost:8080/",
          "height": 299
        },
        "id": "_g_T95i3dEAB",
        "outputId": "12546e87-886b-496e-d36c-195324741626"
      },
      "source": [
        "ppdb.df['ATOM']['b_factor'].plot(kind='hist')\n",
        "plt.title('Distribution of B-Factors')\n",
        "plt.xlabel('B-factor')\n",
        "plt.ylabel('count')\n",
        "plt.show()"
      ],
      "execution_count": 47,
      "outputs": [
        {
          "output_type": "display_data",
          "data": {
            "image/png": "[encoded data removed]",
            "text/plain": [
              "<Figure size 432x288 with 1 Axes>"
            ]
          },
          "metadata": {
            "tags": []
          }
        }
      ]
    },
    {
      "cell_type": "code",
      "metadata": {
        "colab": {
          "base_uri": "https://localhost:8080/",
          "height": 297
        },
        "id": "aRuH4RSudD9y",
        "outputId": "63e0e3c2-701d-4c6e-c011-1267916954ba"
      },
      "source": [
        "ppdb.df['ATOM']['element_symbol'].value_counts().plot(kind='bar')\n",
        "plt.title('Distribution of Atom Types')\n",
        "plt.xlabel('elements')\n",
        "plt.ylabel('count')\n",
        "plt.show()"
      ],
      "execution_count": 48,
      "outputs": [
        {
          "output_type": "display_data",
          "data": {
            "image/png": "[encoded data removed]",
            "text/plain": [
              "<Figure size 432x288 with 1 Axes>"
            ]
          },
          "metadata": {
            "tags": []
          }
        }
      ]
    },
    {
      "cell_type": "markdown",
      "metadata": {
        "id": "qJBXDntul67b"
      },
      "source": [
        "[Biopandas ref](https://rasbt.github.io/biopandas/api_subpackages/biopandas.pdb/)"
      ]
    }
  ]
}